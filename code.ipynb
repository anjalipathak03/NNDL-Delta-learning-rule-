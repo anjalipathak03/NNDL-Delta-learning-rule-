{
 "cells": [
  {
   "cell_type": "code",
   "execution_count": 1,
   "metadata": {},
   "outputs": [],
   "source": [
    "import numpy as np\n",
    "import pandas as pd\n",
    "import sympy"
   ]
  },
  {
   "cell_type": "code",
   "execution_count": 2,
   "metadata": {},
   "outputs": [
    {
     "name": "stdout",
     "output_type": "stream",
     "text": [
      "[ 1.  -1.   0.   0.5]\n",
      "[array([ 1, -2,  0, -1]), array([ 0. ,  1.5, -0.5, -1. ]), array([-1. ,  1. ,  0.5, -1. ])]\n",
      "[-1, -1, 1]\n"
     ]
    }
   ],
   "source": [
    "W=np.array([1,-1,0,0.5]).transpose()\n",
    "Xi=[np.array([1,-2,0,-1]).transpose(),np.array([0,1.5,-0.5,-1]).transpose(),np.array([-1,1,0.5,-1]).transpose()]\n",
    "c=0.1\n",
    "d=[-1,-1,1]\n",
    "i=0\n",
    "print(W)\n",
    "print(Xi)\n",
    "print(d)"
   ]
  },
  {
   "cell_type": "code",
   "execution_count": 3,
   "metadata": {},
   "outputs": [
    {
     "name": "stdout",
     "output_type": "stream",
     "text": [
      "2*exp(-x)/(1 + exp(-x))**2\n",
      "Aggregation output: 2.5\n",
      "0.848\n",
      "0.140\n",
      "weight vector for this iteration: [0.974085689521892 -0.948171379043783 0 0.525914310478108]\n",
      "Aggregation output: -1.948\n",
      "-0.750\n",
      "0.218\n",
      "weight vector for this iteration: [0.974085689521892 -0.956344410130361 0.00272434369552599\n",
      " 0.531362997869160]\n",
      "Aggregation output: -2.460\n",
      "-0.843\n",
      "0.145\n",
      "weight vector for this iteration: [0.947371549694924 -0.929630270303393 0.0160814136090099 0.504648858042193]\n"
     ]
    }
   ],
   "source": [
    "x = sympy.Symbol('x')\n",
    "y = ((2/(1+sympy.exp(-x)))-1)\n",
    "yprime = y.diff(x) \n",
    "print(yprime)\n",
    "\n",
    "for i in range (len(Xi)):\n",
    "    net=sum(W.transpose()*Xi[i])\n",
    "    print('Aggregation output:',round(net,3))\n",
    "    o = y.subs(x, net).evalf()\n",
    "    print(round(o, 3))\n",
    "    fdashnet_value =yprime.subs(x, net).evalf()\n",
    "    print(round(fdashnet_value, 3))\n",
    "    dw=c*(d[i]-o)*Xi[i]*fdashnet_value\n",
    "    #print(dw)\n",
    "    W=W+dw\n",
    "    print('weight vector for this iteration:',W)\n",
    "    i+=1"
   ]
  }
 ],
 "metadata": {
  "kernelspec": {
   "display_name": "Python 3",
   "language": "python",
   "name": "python3"
  },
  "language_info": {
   "codemirror_mode": {
    "name": "ipython",
    "version": 3
   },
   "file_extension": ".py",
   "mimetype": "text/x-python",
   "name": "python",
   "nbconvert_exporter": "python",
   "pygments_lexer": "ipython3",
   "version": "3.11.1"
  },
  "orig_nbformat": 4,
  "vscode": {
   "interpreter": {
    "hash": "7e5c0badbb2d24bbc3f94f0128230c51073dab69f6205fe8338cbe6039d785c3"
   }
  }
 },
 "nbformat": 4,
 "nbformat_minor": 2
}
